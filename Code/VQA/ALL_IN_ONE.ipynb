{
 "cells": [
  {
   "cell_type": "code",
   "execution_count": 3,
   "id": "4b3f475a",
   "metadata": {},
   "outputs": [],
   "source": [
    "\n",
    "import torch\n",
    "import torch.nn as nn\n",
    "import torchvision.models as models\n",
    "import torch.nn.functional as F\n",
    "from torch.utils.data import Dataset\n",
    "from torchvision import transforms\n",
    "from torch.utils.data import DataLoader\n",
    "from PIL import Image\n"
   ]
  },
  {
   "cell_type": "code",
   "execution_count": 4,
   "id": "c37c4911",
   "metadata": {},
   "outputs": [],
   "source": [
    "#This is the Image Encoder\n",
    "class ImgEncoder(nn.Module):\n",
    "\n",
    "    def __init__(self, embed_dim):\n",
    "\n",
    "        super(ImgEncoder, self).__init__()\n",
    "        self.model = models.vgg19(pretrained=True) # Calling pre trained Vgg Network\n",
    "        in_features = self.model.classifier[-1].in_features  #in features refers to the no of inputs to  the last layer Vgg19\n",
    "        self.model.classifier = nn.Sequential(*list(self.model.classifier.children())[:-1]) # remove vgg19 last layer\n",
    "        self.fc = nn.Linear(in_features, embed_dim)\n",
    "\n",
    "    def forward(self, image):\n",
    "\n",
    "        with torch.no_grad():\n",
    "            img_feature = self.model(image) # (batch, channel, height, width) and basically the image runs through vgg19\n",
    "        img_feature = self.fc(img_feature)\n",
    "\n",
    "        l2_norm = F.normalize(img_feature, p=2, dim=1).detach()\n",
    "        return l2_norm"
   ]
  },
  {
   "cell_type": "code",
   "execution_count": 5,
   "id": "0be83cad",
   "metadata": {},
   "outputs": [],
   "source": [
    "#This is the encoder for the questions \n",
    "class QuEncoder(nn.Module):\n",
    "\n",
    "    def __init__(self, qu_vocab_size, word_embed, hidden_size, num_hidden, qu_feature_size):\n",
    "\n",
    "        super(QuEncoder, self).__init__()\n",
    "        self.word_embedding = nn.Embedding(qu_vocab_size, word_embed)\n",
    "        self.tanh = nn.Tanh()\n",
    "        self.lstm = nn.LSTM(word_embed, hidden_size, num_hidden) # input_feature, hidden_feature, num_layer\n",
    "        self.fc = nn.Linear(2*num_hidden*hidden_size, qu_feature_size)\n",
    "\n",
    "    def forward(self, question):\n",
    "\n",
    "        qu_embedding = self.word_embedding(question)                # (batchsize, qu_length=30, word_embed=300)\n",
    "        qu_embedding = self.tanh(qu_embedding)\n",
    "        qu_embedding = qu_embedding.transpose(0, 1)                 # (qu_length=30, batchsize, word_embed=300)\n",
    "        _, (hidden, cell) = self.lstm(qu_embedding)                 # (num_layer=2, batchsize, hidden_size=1024)\n",
    "        qu_feature = torch.cat((hidden, cell), dim=2)               # (num_layer=2, batchsize, 2*hidden_size=1024)\n",
    "        qu_feature = qu_feature.transpose(0, 1)                     # (batchsize, num_layer=2, 2*hidden_size=1024)\n",
    "        qu_feature = qu_feature.reshape(qu_feature.size()[0], -1)   # (batchsize, 2*num_layer*hidden_size=2048)\n",
    "        qu_feature = self.tanh(qu_feature)\n",
    "        qu_feature = self.fc(qu_feature)                            # (batchsize, qu_feature_size=1024)\n",
    "\n",
    "        return qu_feature"
   ]
  },
  {
   "cell_type": "code",
   "execution_count": 6,
   "id": "b775ec1b",
   "metadata": {},
   "outputs": [],
   "source": [
    "#This combines the question encoder with the \n",
    "\n",
    "class VQAModel(nn.Module):\n",
    "\n",
    "    def __init__(self, feature_size, qu_vocab_size, ans_vocab_size, word_embed, hidden_size, num_hidden):\n",
    "\n",
    "        super(VQAModel, self).__init__()\n",
    "        self.img_encoder = ImgEncoder(feature_size)\n",
    "        self.qu_encoder = QuEncoder(qu_vocab_size, word_embed, hidden_size, num_hidden, feature_size)\n",
    "        self.dropout = nn.Dropout(0.5)\n",
    "        self.tanh = nn.Tanh()\n",
    "        self.fc1 = nn.Linear(feature_size, ans_vocab_size)\n",
    "        self.fc2 = nn.Linear(ans_vocab_size, ans_vocab_size)\n",
    "\n",
    "    def forward(self, image, question):\n",
    "\n",
    "        img_feature = self.img_encoder(image)               # (batchsize, feature_size=1024)\n",
    "        qst_feature = self.qu_encoder(question)\n",
    "        combined_feature = img_feature * qst_feature\n",
    "        combined_feature = self.dropout(combined_feature)\n",
    "        combined_feature = self.tanh(combined_feature)\n",
    "        combined_feature = self.fc1(combined_feature)       # (batchsize, ans_vocab_size=1000)\n",
    "        combined_feature = self.dropout(combined_feature)\n",
    "        combined_feature = self.tanh(combined_feature)\n",
    "        logits = self.fc2(combined_feature)                 # (batchsize, ans_vocab_size=1000)\n",
    "\n",
    "        return logits"
   ]
  },
  {
   "cell_type": "code",
   "execution_count": null,
   "id": "254e8403",
   "metadata": {},
   "outputs": [],
   "source": []
  }
 ],
 "metadata": {
  "kernelspec": {
   "display_name": "Python 3 (ipykernel)",
   "language": "python",
   "name": "python3"
  },
  "language_info": {
   "codemirror_mode": {
    "name": "ipython",
    "version": 3
   },
   "file_extension": ".py",
   "mimetype": "text/x-python",
   "name": "python",
   "nbconvert_exporter": "python",
   "pygments_lexer": "ipython3",
   "version": "3.11.4"
  }
 },
 "nbformat": 4,
 "nbformat_minor": 5
}
